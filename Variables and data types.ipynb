{
 "cells": [
  {
   "cell_type": "markdown",
   "id": "06908b01",
   "metadata": {},
   "source": [
    "## Basics of Python"
   ]
  },
  {
   "cell_type": "markdown",
   "id": "403bc840",
   "metadata": {},
   "source": [
    "> `Question:` Print your name"
   ]
  },
  {
   "cell_type": "code",
   "execution_count": 2,
   "id": "ad29e268",
   "metadata": {},
   "outputs": [
    {
     "name": "stdout",
     "output_type": "stream",
     "text": [
      "My name is Bhargavi\n"
     ]
    }
   ],
   "source": [
    "# CODE HERE\n",
    "print(\"My name is Bhargavi\")"
   ]
  },
  {
   "cell_type": "markdown",
   "id": "6277164a",
   "metadata": {},
   "source": [
    "> `Question:` What is a variable? Write a Few words about Variables. Create a Variable with an Example. "
   ]
  },
  {
   "cell_type": "markdown",
   "id": "6b26f472",
   "metadata": {},
   "source": [
    "Variables are nothing but place holders to store the literal values."
   ]
  },
  {
   "cell_type": "code",
   "execution_count": 4,
   "id": "5515ea8e",
   "metadata": {},
   "outputs": [
    {
     "data": {
      "text/plain": [
       "3.4"
      ]
     },
     "execution_count": 4,
     "metadata": {},
     "output_type": "execute_result"
    }
   ],
   "source": [
    "# Code Here\n",
    "a=2\n",
    "b=3.4\n",
    "c=\"True\"\n",
    "d=[4,5,2]\n",
    "e={2,3,4}\n",
    "f=(1,2,3)\n",
    "g={\"a\":8,\"b\":9,\"c\":10}\n",
    "a\n",
    "b"
   ]
  },
  {
   "cell_type": "markdown",
   "id": "59472cea",
   "metadata": {},
   "source": [
    ">`Question:` Assume that we execute the following assignment statements:\n",
    "width = 17\n",
    "height = 12.0\n",
    "delimiter = '.'\n",
    "For each of the following expressions, write the value of the expression and the type (of the value of\n",
    "the expression).\n",
    "1. width/2\n",
    "2. width/2.0\n",
    "3. height/3\n",
    "4. 1 + 2 * 5\n",
    "5. delimiter * 5"
   ]
  },
  {
   "cell_type": "code",
   "execution_count": 5,
   "id": "16c20d6c",
   "metadata": {},
   "outputs": [
    {
     "name": "stdout",
     "output_type": "stream",
     "text": [
      "8.5 <class 'float'>\n",
      "8.5 <class 'float'>\n",
      "4.0 <class 'float'>\n",
      "11 <class 'int'>\n",
      "..... <class 'str'>\n"
     ]
    }
   ],
   "source": [
    "# CODE HERE\n",
    "width=17\n",
    "height=12.0\n",
    "l=1+2*5\n",
    "delimiter='.'\n",
    "print(width/2,type(17/2))\n",
    "print(width/2.0,type(12.0/2.0))\n",
    "print(height/3,type(11/3))\n",
    "print(l,type(l))\n",
    "print(delimiter*5,type(delimiter))\n"
   ]
  },
  {
   "cell_type": "markdown",
   "id": "24f1b293",
   "metadata": {},
   "source": [
    "> `Question:` Add two number by taking variable names as first and seccond"
   ]
  },
  {
   "cell_type": "code",
   "execution_count": 6,
   "id": "9272d14e",
   "metadata": {},
   "outputs": [
    {
     "name": "stdout",
     "output_type": "stream",
     "text": [
      "first number is: 100\n",
      "second number is: 200\n",
      "Addition of two numbers are: 300\n"
     ]
    }
   ],
   "source": [
    "#CODE HERE\n",
    "x=100\n",
    "y=200\n",
    "print(\"first number is:\",x)\n",
    "print(\"second number is:\",y)\n",
    "print(\"Addition of two numbers are:\",x+y)"
   ]
  },
  {
   "cell_type": "markdown",
   "id": "313364d0",
   "metadata": {},
   "source": [
    "> `Question:` Add your first name and second name"
   ]
  },
  {
   "cell_type": "code",
   "execution_count": 7,
   "id": "462a3ea7",
   "metadata": {},
   "outputs": [
    {
     "name": "stdout",
     "output_type": "stream",
     "text": [
      "My first name is : Sachin\n",
      "My second name is : Tendulkar\n",
      "My full name is : SachinTendulkar\n"
     ]
    }
   ],
   "source": [
    "x=\"Sachin\"\n",
    "y=\"Tendulkar\"\n",
    "print(\"My first name is :\",x)\n",
    "print(\"My second name is :\",y)\n",
    "print(\"My full name is :\",x + y)"
   ]
  },
  {
   "cell_type": "markdown",
   "id": "31700d2e",
   "metadata": {},
   "source": [
    "> `Question:` print the datatypes of the following\n",
    "- 10,'10',True,10.5"
   ]
  },
  {
   "cell_type": "code",
   "execution_count": 8,
   "id": "3a9e0738",
   "metadata": {},
   "outputs": [
    {
     "name": "stdout",
     "output_type": "stream",
     "text": [
      "10 <class 'int'>\n",
      "10 <class 'str'>\n",
      "True <class 'bool'>\n",
      "10.5 <class 'float'>\n"
     ]
    }
   ],
   "source": [
    "# CODE HERE\n",
    "a=10\n",
    "print(a,type(a))\n",
    "\n",
    "b='10'\n",
    "print(b,type(b))\n",
    "\n",
    "c=True\n",
    "print(c,type(c))\n",
    "\n",
    "d=10.5\n",
    "print(d,type(d))"
   ]
  },
  {
   "cell_type": "markdown",
   "id": "40706442",
   "metadata": {},
   "source": [
    " `Question:` \n",
    "> - num_int = 123\n",
    "> - num_str = \"456\"\n",
    "> - Add num_int and num_str\n",
    "- `hint: first need to convert num_str into integer`"
   ]
  },
  {
   "cell_type": "code",
   "execution_count": 10,
   "id": "8e03d022",
   "metadata": {},
   "outputs": [
    {
     "name": "stdout",
     "output_type": "stream",
     "text": [
      "Addition of 123 and 456 is : 579\n"
     ]
    }
   ],
   "source": [
    "# CODE HERE\n",
    "num_int=123\n",
    "num_str=int(\"456\")\n",
    "print(f'Addition of {num_int} and {num_str} is : {num_int+num_str}')"
   ]
  },
  {
   "cell_type": "markdown",
   "id": "918dabd1",
   "metadata": {},
   "source": [
    "### Advanced Questions"
   ]
  },
  {
   "cell_type": "markdown",
   "id": "e21ed2b8",
   "metadata": {},
   "source": [
    "> `Question:` The volume of a sphere with radius r is  4/3πr3  . What is the volume of a sphere with radius 5?"
   ]
  },
  {
   "cell_type": "code",
   "execution_count": 11,
   "id": "2b493e4e",
   "metadata": {},
   "outputs": [
    {
     "data": {
      "text/plain": [
       "523.3333333333334"
      ]
     },
     "execution_count": 11,
     "metadata": {},
     "output_type": "execute_result"
    }
   ],
   "source": [
    "# CODE HERE\n",
    "radius=4/3*3.14*(5**3)\n",
    "radius"
   ]
  },
  {
   "cell_type": "markdown",
   "id": "709bcfc5",
   "metadata": {},
   "source": [
    "> Question: Suppose the cover price of a book is Rs.24.95, but bookstores get a 40% discount. Shipping costs Rs.3 for the first copy and 75 paise for each additional copy. What is the total wholesale cost for 60 copies?"
   ]
  },
  {
   "cell_type": "code",
   "execution_count": 12,
   "id": "0761aec3",
   "metadata": {},
   "outputs": [
    {
     "name": "stdout",
     "output_type": "stream",
     "text": [
      "9.98\n",
      "14.969999999999999\n",
      "945.44994\n"
     ]
    }
   ],
   "source": [
    "# CODE HERE\n",
    "x=24.95\n",
    "d=(40/100)\n",
    "discount=(x*d)\n",
    "print(discount)\n",
    "r=(x-discount)\n",
    "print(r)\n",
    "s=3\n",
    "n=0.75\n",
    "k=59\n",
    "f=(n*k)+s\n",
    "n=60\n",
    "b=14.969999\n",
    "c=(n*b)\n",
    "y=c+f\n",
    "print(y)"
   ]
  }
 ],
 "metadata": {
  "kernelspec": {
   "display_name": "Python 3 (ipykernel)",
   "language": "python",
   "name": "python3"
  },
  "language_info": {
   "codemirror_mode": {
    "name": "ipython",
    "version": 3
   },
   "file_extension": ".py",
   "mimetype": "text/x-python",
   "name": "python",
   "nbconvert_exporter": "python",
   "pygments_lexer": "ipython3",
   "version": "3.9.13"
  }
 },
 "nbformat": 4,
 "nbformat_minor": 5
}
