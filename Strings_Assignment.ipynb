{
 "cells": [
  {
   "cell_type": "markdown",
   "id": "c8d3ed9e",
   "metadata": {},
   "source": [
    "Write a python program to convert a string to lower case"
   ]
  },
  {
   "cell_type": "code",
   "execution_count": 2,
   "id": "22deafe2",
   "metadata": {},
   "outputs": [
    {
     "data": {
      "text/plain": [
       "'welcome to innomatics research labs'"
      ]
     },
     "execution_count": 2,
     "metadata": {},
     "output_type": "execute_result"
    }
   ],
   "source": [
    "l=\"Welcome To Innomatics Research Labs\"\n",
    "l.lower()"
   ]
  },
  {
   "cell_type": "markdown",
   "id": "2526aef8",
   "metadata": {},
   "source": [
    "Write a python program to convert only odd indexed characters to lower case\n",
    "Ex: PYTHON"
   ]
  },
  {
   "cell_type": "code",
   "execution_count": 5,
   "id": "80fa0942",
   "metadata": {},
   "outputs": [
    {
     "name": "stdout",
     "output_type": "stream",
     "text": [
      " PyThOn\n"
     ]
    }
   ],
   "source": [
    "x=\"PYTHON\"\n",
    "res=\" \"\n",
    "for i in range(len(x)):\n",
    "    if not i%2:\n",
    "        res=res+x[i].upper()\n",
    "    else:\n",
    "        res=res+x[i].lower()\n",
    "print(str(res))"
   ]
  },
  {
   "cell_type": "markdown",
   "id": "e90b63bc",
   "metadata": {},
   "source": [
    "Write a python program to convert only even indexed characters to lower case\n",
    "Ex: PYTHON"
   ]
  },
  {
   "cell_type": "code",
   "execution_count": 14,
   "id": "1364a0e6",
   "metadata": {},
   "outputs": [
    {
     "name": "stdout",
     "output_type": "stream",
     "text": [
      " pYtHoN\n"
     ]
    }
   ],
   "source": [
    "x=\"PYTHON\"\n",
    "res=\" \"\n",
    "for i in range(len(x)):\n",
    "    if i%2:\n",
    "        res=res+x[i].upper()\n",
    "    else:\n",
    "        res=res+x[i].lower()\n",
    "print(str(res))"
   ]
  },
  {
   "cell_type": "markdown",
   "id": "115963e6",
   "metadata": {},
   "source": [
    "Write a python program to convert only odd indexed characters to upper case\n",
    "Ex: python"
   ]
  },
  {
   "cell_type": "code",
   "execution_count": 11,
   "id": "a7f8ad06",
   "metadata": {},
   "outputs": [
    {
     "name": "stdout",
     "output_type": "stream",
     "text": [
      " pYtHoN\n"
     ]
    }
   ],
   "source": [
    "x=\"python\"\n",
    "res=\" \"\n",
    "for i in range(len(x)):\n",
    "    if not i%2:\n",
    "        res=res+x[i].lower()\n",
    "    else:\n",
    "        res=res+x[i].upper()\n",
    "print(str(res))"
   ]
  },
  {
   "cell_type": "markdown",
   "id": "f736b6f2",
   "metadata": {},
   "source": [
    "Write a python program to convert only even indexed characters to upper case\n",
    "Ex: python"
   ]
  },
  {
   "cell_type": "code",
   "execution_count": 8,
   "id": "beb9b71d",
   "metadata": {},
   "outputs": [
    {
     "name": "stdout",
     "output_type": "stream",
     "text": [
      " PyThOn\n"
     ]
    }
   ],
   "source": [
    "x=\"python\"\n",
    "res=\" \"\n",
    "for i in range(len(x)):\n",
    "    if i%2!=0:\n",
    "        res=res+x[i].lower()\n",
    "    else:\n",
    "        res=res+x[i].upper()\n",
    "print(str(res))"
   ]
  },
  {
   "cell_type": "markdown",
   "id": "e19baf0e",
   "metadata": {},
   "source": [
    "Write a python program where you have different variable which contains your \n",
    "name, gender, age, phone number, father’s name and mother’s name.\n",
    "And by using this variable create a variable named bio-data where you will use all\n",
    "this variable\n",
    "Ex: print(bio-data)"
   ]
  },
  {
   "cell_type": "code",
   "execution_count": 6,
   "id": "4bca4db5",
   "metadata": {},
   "outputs": [
    {
     "name": "stdout",
     "output_type": "stream",
     "text": [
      "My name is Bhargavi, My age is 21, My phone no is 8555812414, My fathers name is Brahmam, My mothers name is Varalakshmi, "
     ]
    }
   ],
   "source": [
    "biodata={\"My name is\":\"Bhargavi\",\n",
    "         \"My age is\":21,\n",
    "         \"My phone no is\":8555812414,\n",
    "         \"My fathers name is\":\"Brahmam\",\n",
    "         \"My mothers name is\":\"Varalakshmi\"\n",
    "        }\n",
    "for i in biodata:\n",
    "    print(i,biodata[i],end=\", \")"
   ]
  },
  {
   "cell_type": "markdown",
   "id": "e85dcc22",
   "metadata": {},
   "source": [
    "Write a python program to count how many times “@” occurred\n",
    "Ex: S@ndhy@"
   ]
  },
  {
   "cell_type": "code",
   "execution_count": 12,
   "id": "b17a1f28",
   "metadata": {},
   "outputs": [
    {
     "data": {
      "text/plain": [
       "2"
      ]
     },
     "execution_count": 12,
     "metadata": {},
     "output_type": "execute_result"
    }
   ],
   "source": [
    "x=\"S@ndhy@\"\n",
    "x.count('@')"
   ]
  },
  {
   "cell_type": "markdown",
   "id": "ee85469d",
   "metadata": {},
   "source": [
    "Write a python program to get only names from the string\n",
    "Ex: “name1.@gmail.com, name2.@gmail.com, name#3.@gmail.com”"
   ]
  },
  {
   "cell_type": "code",
   "execution_count": 7,
   "id": "d62f9962",
   "metadata": {},
   "outputs": [
    {
     "name": "stdout",
     "output_type": "stream",
     "text": [
      "Enter your ist email address: name1@gmail.com\n",
      "Enter your 2nd email address: name2@gmail.com\n",
      "Enter your 3rd email address: name3@gmail.com\n",
      "name1,name2,name3\n"
     ]
    }
   ],
   "source": [
    "s=input(\"Enter your ist email address: \")\n",
    "s1=input(\"Enter your 2nd email address: \")\n",
    "s2=input(\"Enter your 3rd email address: \")\n",
    "a=s.split(\"@\")\n",
    "b=s1.split(\"@\")\n",
    "c=s2.split(\"@\")\n",
    "print(a[0],b[0],c[0],sep=',')"
   ]
  },
  {
   "cell_type": "markdown",
   "id": "3e97fc72",
   "metadata": {},
   "source": [
    "Write a program to remove vowels from the entire alphabets\n",
    "Ex: “abcdefghijklmnopqrstuvwxyz”"
   ]
  },
  {
   "cell_type": "code",
   "execution_count": 13,
   "id": "430ad9ba",
   "metadata": {},
   "outputs": [
    {
     "name": "stdout",
     "output_type": "stream",
     "text": [
      "bcdfghjklmnpqrstvwxyz\n"
     ]
    }
   ],
   "source": [
    "string=\"abcdefghijklmnopqrstuvwxyz\"\n",
    "vowels=['a','e','i','o','u','A','E','I','O','U']\n",
    "result=\"\"\n",
    "for i in range(len(string)):\n",
    "    if string[i] not in vowels:\n",
    "        result=result+string[i]\n",
    "print(result)"
   ]
  },
  {
   "cell_type": "markdown",
   "id": "d52e2625",
   "metadata": {},
   "source": [
    "Find all occurrences of a substring in a given string by ignoring the case\n",
    "Ex: str1 = \"Welcome to Innomatics. innomatics awesome, isn't it?\""
   ]
  },
  {
   "cell_type": "code",
   "execution_count": 15,
   "id": "b711a943",
   "metadata": {},
   "outputs": [
    {
     "name": "stdout",
     "output_type": "stream",
     "text": [
      "The innomatics count is: 2\n"
     ]
    }
   ],
   "source": [
    "s1=\"Welcome to Innomatics.innomatics awesome,isn't?\"\n",
    "s1=s1.lower()\n",
    "sub_str=\"innomatics\"\n",
    "count=s1.count(sub_str)\n",
    "print(\"The innomatics count is:\",count)"
   ]
  },
  {
   "cell_type": "code",
   "execution_count": null,
   "id": "48870311",
   "metadata": {},
   "outputs": [],
   "source": []
  }
 ],
 "metadata": {
  "kernelspec": {
   "display_name": "Python 3 (ipykernel)",
   "language": "python",
   "name": "python3"
  },
  "language_info": {
   "codemirror_mode": {
    "name": "ipython",
    "version": 3
   },
   "file_extension": ".py",
   "mimetype": "text/x-python",
   "name": "python",
   "nbconvert_exporter": "python",
   "pygments_lexer": "ipython3",
   "version": "3.9.13"
  }
 },
 "nbformat": 4,
 "nbformat_minor": 5
}
